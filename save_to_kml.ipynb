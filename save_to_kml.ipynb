{
 "cells": [
  {
   "cell_type": "code",
   "execution_count": 5,
   "metadata": {},
   "outputs": [
    {
     "name": "stdout",
     "output_type": "stream",
     "text": [
      "Collecting simplekml\n",
      "  Downloading simplekml-1.3.5-py3-none-any.whl (65 kB)\n",
      "Installing collected packages: simplekml\n",
      "Successfully installed simplekml-1.3.5\n"
     ]
    }
   ],
   "source": [
    "!pip install simplekml"
   ]
  },
  {
   "cell_type": "code",
   "execution_count": 19,
   "metadata": {},
   "outputs": [],
   "source": [
    "import pandas as pd\n",
    "import simplekml\n",
    "import pprint\n",
    "import numpy as np\n",
    "from tqdm.notebook import tqdm"
   ]
  },
  {
   "cell_type": "code",
   "execution_count": 2,
   "metadata": {},
   "outputs": [],
   "source": [
    "res = pd.read_csv('BadTracksHackaton1801.txt', sep=' ', encoding='cp1250', header=None)"
   ]
  },
  {
   "cell_type": "code",
   "execution_count": 3,
   "metadata": {},
   "outputs": [
    {
     "data": {
      "text/html": [
       "<div>\n",
       "<style scoped>\n",
       "    .dataframe tbody tr th:only-of-type {\n",
       "        vertical-align: middle;\n",
       "    }\n",
       "\n",
       "    .dataframe tbody tr th {\n",
       "        vertical-align: top;\n",
       "    }\n",
       "\n",
       "    .dataframe thead th {\n",
       "        text-align: right;\n",
       "    }\n",
       "</style>\n",
       "<table border=\"1\" class=\"dataframe\">\n",
       "  <thead>\n",
       "    <tr style=\"text-align: right;\">\n",
       "      <th></th>\n",
       "      <th>0</th>\n",
       "      <th>1</th>\n",
       "      <th>2</th>\n",
       "      <th>3</th>\n",
       "      <th>4</th>\n",
       "      <th>5</th>\n",
       "      <th>6</th>\n",
       "    </tr>\n",
       "  </thead>\n",
       "  <tbody>\n",
       "    <tr>\n",
       "      <th>0</th>\n",
       "      <td>0:00:01</td>\n",
       "      <td>8</td>\n",
       "      <td>49.722522</td>\n",
       "      <td>40.308650</td>\n",
       "      <td>11567</td>\n",
       "      <td>1025.0</td>\n",
       "      <td>TUM9102</td>\n",
       "    </tr>\n",
       "    <tr>\n",
       "      <th>1</th>\n",
       "      <td>0:00:11</td>\n",
       "      <td>8</td>\n",
       "      <td>49.737334</td>\n",
       "      <td>40.285857</td>\n",
       "      <td>11567</td>\n",
       "      <td>1025.0</td>\n",
       "      <td>TUM9102</td>\n",
       "    </tr>\n",
       "    <tr>\n",
       "      <th>2</th>\n",
       "      <td>0:00:21</td>\n",
       "      <td>8</td>\n",
       "      <td>49.752375</td>\n",
       "      <td>40.264201</td>\n",
       "      <td>11567</td>\n",
       "      <td>1025.0</td>\n",
       "      <td>TUM9102</td>\n",
       "    </tr>\n",
       "    <tr>\n",
       "      <th>3</th>\n",
       "      <td>0:00:31</td>\n",
       "      <td>8</td>\n",
       "      <td>49.767809</td>\n",
       "      <td>40.243869</td>\n",
       "      <td>11567</td>\n",
       "      <td>1025.0</td>\n",
       "      <td>TUM9102</td>\n",
       "    </tr>\n",
       "    <tr>\n",
       "      <th>4</th>\n",
       "      <td>0:00:41</td>\n",
       "      <td>8</td>\n",
       "      <td>49.785372</td>\n",
       "      <td>40.222412</td>\n",
       "      <td>11575</td>\n",
       "      <td>1025.0</td>\n",
       "      <td>TUM9102</td>\n",
       "    </tr>\n",
       "    <tr>\n",
       "      <th>...</th>\n",
       "      <td>...</td>\n",
       "      <td>...</td>\n",
       "      <td>...</td>\n",
       "      <td>...</td>\n",
       "      <td>...</td>\n",
       "      <td>...</td>\n",
       "      <td>...</td>\n",
       "    </tr>\n",
       "    <tr>\n",
       "      <th>569245</th>\n",
       "      <td>23:59:13</td>\n",
       "      <td>3669</td>\n",
       "      <td>57.862780</td>\n",
       "      <td>41.943280</td>\n",
       "      <td>10668</td>\n",
       "      <td>1546.0</td>\n",
       "      <td>AFL1512</td>\n",
       "    </tr>\n",
       "    <tr>\n",
       "      <th>569246</th>\n",
       "      <td>23:59:23</td>\n",
       "      <td>3669</td>\n",
       "      <td>57.870371</td>\n",
       "      <td>41.980686</td>\n",
       "      <td>10668</td>\n",
       "      <td>1546.0</td>\n",
       "      <td>AFL1512</td>\n",
       "    </tr>\n",
       "    <tr>\n",
       "      <th>569247</th>\n",
       "      <td>23:59:33</td>\n",
       "      <td>3669</td>\n",
       "      <td>57.878026</td>\n",
       "      <td>42.017266</td>\n",
       "      <td>10668</td>\n",
       "      <td>1546.0</td>\n",
       "      <td>AFL1512</td>\n",
       "    </tr>\n",
       "    <tr>\n",
       "      <th>569248</th>\n",
       "      <td>23:59:54</td>\n",
       "      <td>3669</td>\n",
       "      <td>57.889473</td>\n",
       "      <td>42.090678</td>\n",
       "      <td>10668</td>\n",
       "      <td>1546.0</td>\n",
       "      <td>AFL1512</td>\n",
       "    </tr>\n",
       "    <tr>\n",
       "      <th>569249</th>\n",
       "      <td>23:59:55</td>\n",
       "      <td>3669</td>\n",
       "      <td>57.890519</td>\n",
       "      <td>42.098520</td>\n",
       "      <td>10668</td>\n",
       "      <td>1546.0</td>\n",
       "      <td>AFL1512</td>\n",
       "    </tr>\n",
       "  </tbody>\n",
       "</table>\n",
       "<p>569250 rows × 7 columns</p>\n",
       "</div>"
      ],
      "text/plain": [
       "               0     1          2          3      4       5        6\n",
       "0        0:00:01     8  49.722522  40.308650  11567  1025.0  TUM9102\n",
       "1        0:00:11     8  49.737334  40.285857  11567  1025.0  TUM9102\n",
       "2        0:00:21     8  49.752375  40.264201  11567  1025.0  TUM9102\n",
       "3        0:00:31     8  49.767809  40.243869  11567  1025.0  TUM9102\n",
       "4        0:00:41     8  49.785372  40.222412  11575  1025.0  TUM9102\n",
       "...          ...   ...        ...        ...    ...     ...      ...\n",
       "569245  23:59:13  3669  57.862780  41.943280  10668  1546.0  AFL1512\n",
       "569246  23:59:23  3669  57.870371  41.980686  10668  1546.0  AFL1512\n",
       "569247  23:59:33  3669  57.878026  42.017266  10668  1546.0  AFL1512\n",
       "569248  23:59:54  3669  57.889473  42.090678  10668  1546.0  AFL1512\n",
       "569249  23:59:55  3669  57.890519  42.098520  10668  1546.0  AFL1512\n",
       "\n",
       "[569250 rows x 7 columns]"
      ]
     },
     "execution_count": 3,
     "metadata": {},
     "output_type": "execute_result"
    }
   ],
   "source": [
    "res"
   ]
  },
  {
   "cell_type": "code",
   "execution_count": 11,
   "metadata": {},
   "outputs": [],
   "source": [
    "res['rest_data'] = res[0].astype(str) + '_' + res[1].astype(str) + '_' + res[5].astype(str) + '_' + res[6].astype(str)"
   ]
  },
  {
   "cell_type": "code",
   "execution_count": 38,
   "metadata": {
    "scrolled": true
   },
   "outputs": [
    {
     "name": "stderr",
     "output_type": "stream",
     "text": [
      "<ipython-input-38-93ce3ac041c5>:2: SettingWithCopyWarning: \n",
      "A value is trying to be set on a copy of a slice from a DataFrame.\n",
      "Try using .loc[row_indexer,col_indexer] = value instead\n",
      "\n",
      "See the caveats in the documentation: https://pandas.pydata.org/pandas-docs/stable/user_guide/indexing.html#returning-a-view-versus-a-copy\n",
      "  res_cool[1] = res_cool[1].astype('str')\n"
     ]
    }
   ],
   "source": [
    "res_cool = res[[2,3,4, 1]]\n",
    "res_cool[1] = res_cool[1].astype('str')"
   ]
  },
  {
   "cell_type": "code",
   "execution_count": 42,
   "metadata": {},
   "outputs": [],
   "source": [
    "dict_dataframes=dict(tuple(res_cool.groupby(1)))"
   ]
  },
  {
   "cell_type": "code",
   "execution_count": 43,
   "metadata": {},
   "outputs": [
    {
     "data": {
      "application/vnd.jupyter.widget-view+json": {
       "model_id": "0184ad242eea49528f811866486fe224",
       "version_major": 2,
       "version_minor": 0
      },
      "text/plain": [
       "HBox(children=(HTML(value=''), FloatProgress(value=0.0, max=1081.0), HTML(value='')))"
      ]
     },
     "metadata": {},
     "output_type": "display_data"
    },
    {
     "name": "stdout",
     "output_type": "stream",
     "text": [
      "\n"
     ]
    }
   ],
   "source": [
    "dict_dataframes=dict(tuple(res_cool.groupby(1)))\n",
    "\n",
    "for name, df in tqdm(dict_dataframes.items()):\n",
    "\n",
    "    ###CREATING A LIST OF TUPLES WITH THE COLUMNS OF THE DATAFRAME\n",
    "    tuples = [tuple(x) for x in df.values]\n",
    "\n",
    "\n",
    "    extrude=1\n",
    "    altitudemode = simplekml.AltitudeMode.relativetoground\n",
    "\n",
    "    pol = kml.newpolygon(name = name, description=\"District of \" + name, outerboundaryis=tuples, extrude=extrude, altitudemode=altitudemode)\n",
    "    pol.style.linestyle.color = simplekml.Color.honeydew\n",
    "    pol.style.linestyle.width = 3\n",
    "    pol.style.polystyle.color = simplekml.Color.changealphaint(100, simplekml.Color.navy)\n",
    "\n",
    "\n",
    "###SAVING THE FILE    \n",
    "kml.save('3d_file.kml')"
   ]
  },
  {
   "cell_type": "code",
   "execution_count": null,
   "metadata": {},
   "outputs": [],
   "source": []
  }
 ],
 "metadata": {
  "kernelspec": {
   "display_name": "Python 3",
   "language": "python",
   "name": "python3"
  },
  "language_info": {
   "codemirror_mode": {
    "name": "ipython",
    "version": 3
   },
   "file_extension": ".py",
   "mimetype": "text/x-python",
   "name": "python",
   "nbconvert_exporter": "python",
   "pygments_lexer": "ipython3",
   "version": "3.8.5"
  }
 },
 "nbformat": 4,
 "nbformat_minor": 4
}
